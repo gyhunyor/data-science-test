{
 "cells": [
  {
   "cell_type": "code",
   "execution_count": null,
   "metadata": {},
   "outputs": [],
   "source": [
    "primerange = int(input(\"Meddig keressük a prímeket? \"))\n",
    "\n",
    "def findprime(list,m):\n",
    "    prime = True\n",
    "    for n in list:\n",
    "        if m % n == 0:\n",
    "            prime = False\n",
    "            break\n",
    "    return prime\n",
    "\n",
    "primelist = [2]\n",
    "\n",
    "while primelist[-1] <= primerange/2:\n",
    "    k = primelist[-1]+1\n",
    "    l = max(2*primelist[-1]-1, primerange)\n",
    "    while k <= l:\n",
    "        if findprime(primelist,k):\n",
    "            primelist.append(int(k))\n",
    "        k += 1\n",
    "\n",
    "print(primelist)\n",
    "\n"
   ]
  },
  {
   "cell_type": "code",
   "execution_count": 5,
   "metadata": {},
   "outputs": [
    {
     "name": "stdout",
     "output_type": "stream",
     "text": [
      "Meddig keressük a prímeket? 100\n",
      "Összesen  25  prímszámot találtam:\n",
      " [2, 3, 5, 7, 11, 13, 17, 19, 23, 29, 31, 37, 41, 43, 47, 53, 59, 61, 67, 71, 73, 79, 83, 89, 97]\n"
     ]
    }
   ],
   "source": [
    "primerange = int(input(\"Meddig keressük a prímeket? \"))\n",
    "\n",
    "def findprime(list,m):\n",
    "    prime = True\n",
    "    for n in list:\n",
    "        if m % n == 0:\n",
    "            prime = False\n",
    "            break\n",
    "        if n >= m/2: break\n",
    "    return prime\n",
    "\n",
    "primelist = [2]\n",
    "start = primelist[-1]+1\n",
    "\n",
    "for i in range(start,primerange): \n",
    "    if findprime(primelist,i): primelist.append(int(i))\n",
    "\n",
    "print(\"Összesen \",len(primelist),\" prímszámot találtam:\\n\",primelist)\n"
   ]
  }
 ],
 "metadata": {
  "kernelspec": {
   "display_name": "Python 3",
   "language": "python",
   "name": "python3"
  },
  "language_info": {
   "codemirror_mode": {
    "name": "ipython",
    "version": 3
   },
   "file_extension": ".py",
   "mimetype": "text/x-python",
   "name": "python",
   "nbconvert_exporter": "python",
   "pygments_lexer": "ipython3",
   "version": "3.7.6"
  }
 },
 "nbformat": 4,
 "nbformat_minor": 4
}
